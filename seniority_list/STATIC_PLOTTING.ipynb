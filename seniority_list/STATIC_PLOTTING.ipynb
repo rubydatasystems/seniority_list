{
 "cells": [
  {
   "cell_type": "code",
   "execution_count": null,
   "metadata": {},
   "outputs": [],
   "source": [
    "# uncomment for wider display:\n",
    "#from IPython.core.display import display, HTML\n",
    "#display(HTML(\"<style>.container { width:95% !important; }</style>\"))"
   ]
  },
  {
   "cell_type": "markdown",
   "metadata": {},
   "source": [
    "### Plotting notebook\n",
    "\n",
    "#### Most of the functions below have built-in filtering capability.  Uncomment lines which begin with 'attr1' to sample...\n",
    "\n",
    "##### To view the docstrings for all plotting functions below, click within the name of the function and then use keyboard combination Shift+TAB."
   ]
  },
  {
   "cell_type": "markdown",
   "metadata": {},
   "source": [
    "imports and notebook plotting configuration"
   ]
  },
  {
   "cell_type": "code",
   "execution_count": null,
   "metadata": {},
   "outputs": [],
   "source": [
    "%%time\n",
    "import numpy as np\n",
    "import pandas as pd\n",
    "import seaborn as sns\n",
    "\n",
    "import matplotlib.pyplot as plt\n",
    "from matplotlib import cm\n",
    "\n",
    "import functions as f\n",
    "import matplotlib_charting as mp\n",
    "\n",
    "#plt.style.use('bmh')\n",
    "#plt.style.use('fivethirtyeight')\n",
    "sns.set_style('whitegrid')\n",
    "\n",
    "%matplotlib inline\n",
    "pd.set_option('notebook_repr_html', False)\n",
    "pd.set_option('max_columns', 50)\n",
    "pd.set_option('expand_frame_repr', True)\n",
    "pd.set_option('max_rows', 18)\n",
    "pd.set_option('display.precision', 3)\n",
    "pd.options.display.width = 150\n",
    "pd.options.display.max_colwidth=0\n",
    "\n",
    "pd.set_option('display.float_format', lambda x: '%.4f' % x)\n",
    "np.set_printoptions(linewidth=200, edgeitems=10)\n",
    "\n",
    "plt.rcParams['figure.figsize']=(12.0, 9.0)   \n",
    "plt.rcParams['font.size']=14              \n",
    "\n",
    "plt.rcParams['axes.labelsize']=14\n",
    "plt.rcParams['xtick.labelsize']=13\n",
    "plt.rcParams['ytick.labelsize']=13\n",
    "plt.rcParams['axes.titlesize']=16\n",
    "plt.rcParams['lines.linewidth']=3\n",
    "plt.rcParams['legend.fontsize']=14\n",
    "plt.rcParams['legend.fancybox']=True"
   ]
  },
  {
   "cell_type": "code",
   "execution_count": null,
   "metadata": {},
   "outputs": [],
   "source": [
    "#%%time\n",
    "#f.save_and_load_dill_folder(load_case='sample3')\n",
    "#f.save_and_load_dill_folder()"
   ]
  },
  {
   "cell_type": "markdown",
   "metadata": {},
   "source": [
    "read and assign dictionary values for computed datasets"
   ]
  },
  {
   "cell_type": "code",
   "execution_count": null,
   "metadata": {
    "scrolled": false
   },
   "outputs": [],
   "source": [
    "%%time\n",
    "ds_dict = f.load_datasets()"
   ]
  },
  {
   "cell_type": "code",
   "execution_count": null,
   "metadata": {},
   "outputs": [],
   "source": [
    "%%time\n",
    "sdict = pd.read_pickle('dill/dict_settings.pkl')\n",
    "adict = pd.read_pickle('dill/dict_attr.pkl')\n",
    "cdict = pd.read_pickle('dill/dict_color.pkl')\n",
    "tdict = pd.read_pickle('dill/dict_job_tables.pkl')"
   ]
  },
  {
   "cell_type": "markdown",
   "metadata": {},
   "source": [
    "view of first 5 rows of calculated dataset corresponding to proposal 1\n",
    "\n",
    "the calculated dataset is stored in the 'dill' folder as ds_p1.pkl\n",
    "\n",
    "the original proposal list is in the excel folder, in the sample3 folder, the 'proposals.xlsx' file, the 'p1 worksheet.\n",
    "\n",
    "the dataframe version of the proposed list is in the dill folder, 'p_p1.pkl'."
   ]
  },
  {
   "cell_type": "code",
   "execution_count": null,
   "metadata": {},
   "outputs": [],
   "source": [
    "%%time\n",
    "ds_dict['p1'].head()"
   ]
  },
  {
   "cell_type": "markdown",
   "metadata": {},
   "source": [
    "assign reusable variables for functions below"
   ]
  },
  {
   "cell_type": "code",
   "execution_count": null,
   "metadata": {},
   "outputs": [],
   "source": [
    "%%time\n",
    "enhanced_jobs = sdict['enhanced_jobs']\n",
    "job_levels = sdict['num_of_job_levels']\n",
    "eg_colors = cdict['eg_colors']\n",
    "job_colors = cdict['job_colors']\n",
    "p_dict = sdict['p_dict']\n",
    "p_dict_verbose = sdict['p_dict_verbose']\n",
    "job_strs = sdict['job_strs']\n",
    "ret_age = sdict['ret_age']\n",
    "starting_date = sdict['starting_date']\n",
    "job_dict = sdict['jd']"
   ]
  },
  {
   "cell_type": "markdown",
   "metadata": {},
   "source": [
    "assign proposal variable (string)"
   ]
  },
  {
   "cell_type": "code",
   "execution_count": null,
   "metadata": {},
   "outputs": [],
   "source": [
    "job_levels"
   ]
  },
  {
   "cell_type": "code",
   "execution_count": null,
   "metadata": {},
   "outputs": [],
   "source": [
    "%%time\n",
    "proposal = 'p1'"
   ]
  },
  {
   "cell_type": "markdown",
   "metadata": {},
   "source": [
    "assign p variable as the proposal dataframe to use for many examples below"
   ]
  },
  {
   "cell_type": "code",
   "execution_count": null,
   "metadata": {},
   "outputs": [],
   "source": [
    "%%time\n",
    "p = ds_dict[proposal]"
   ]
  },
  {
   "cell_type": "markdown",
   "metadata": {},
   "source": [
    "view of columns in p dataset"
   ]
  },
  {
   "cell_type": "code",
   "execution_count": null,
   "metadata": {},
   "outputs": [],
   "source": [
    "sdict['num_of_job_levels']"
   ]
  },
  {
   "cell_type": "code",
   "execution_count": null,
   "metadata": {},
   "outputs": [],
   "source": [
    "p.columns"
   ]
  },
  {
   "cell_type": "markdown",
   "metadata": {},
   "source": [
    "view of colors represented by color dictionary 'job_colors' value"
   ]
  },
  {
   "cell_type": "code",
   "execution_count": null,
   "metadata": {},
   "outputs": [],
   "source": [
    "ds_dict['standalone'].columns"
   ]
  },
  {
   "cell_type": "code",
   "execution_count": null,
   "metadata": {},
   "outputs": [],
   "source": [
    "%%time\n",
    "sns.palplot(job_colors)"
   ]
  },
  {
   "cell_type": "markdown",
   "metadata": {},
   "source": [
    "assign sample employee and employee list variables for some functions\n",
    "\n",
    "these are median samples..."
   ]
  },
  {
   "cell_type": "code",
   "execution_count": null,
   "metadata": {},
   "outputs": [],
   "source": [
    "%%time\n",
    "# sample employee - halfway down the list from first month\n",
    "first_month = p[p.mnum==0]\n",
    "sample_emp = first_month.iloc[int(len(first_month) / 2)].empkey"
   ]
  },
  {
   "cell_type": "code",
   "execution_count": null,
   "metadata": {},
   "outputs": [],
   "source": [
    "%%time\n",
    "# sample employee list - median of each employee group\n",
    "sample_emp_list = []\n",
    "g = p[p.mnum==0][['eg', 'empkey']].groupby('eg')\n",
    "egs = pd.unique(p.eg)\n",
    "for eg in egs:\n",
    "    sample_emp_list.append(g.get_group(eg).iloc[int(len(g.get_group(eg)) * .5)].empkey)\n",
    "g =[]"
   ]
  },
  {
   "cell_type": "code",
   "execution_count": null,
   "metadata": {
    "scrolled": false
   },
   "outputs": [],
   "source": [
    "%%time\n",
    "mp.percent_diff_bins('p1', 'standalone', 2, kind='bar', ds_dict=ds_dict, num_display_colors=25,\n",
    "                     #attr3='ldate', oper3='<=', val3='1998-05-31',\n",
    "                     #attr2='s_lmonths', oper2='>=', val2=200,\n",
    "                     #attr1='ret_mark', oper1='==', val1=1,\n",
    "                     #cmap_pos='terrain', cmap_neg='terrain',\n",
    "                     chart_style='ticks',\n",
    "                     title_size=14, man_plotlim=None, invert_barh=False, legend_size=12.5)"
   ]
  },
  {
   "cell_type": "code",
   "execution_count": null,
   "metadata": {
    "scrolled": false
   },
   "outputs": [],
   "source": [
    "%%time\n",
    "mp.eg_attributes('p1', 'date', 'cat_order',\n",
    "                 sdict, adict, cdict,\n",
    "                 ds_dict=ds_dict,\n",
    "                 mnum=0,\n",
    "                 ret_only=True,\n",
    "                 eg_list=[2],\n",
    "                 chart_style='ticks',\n",
    "                 #attr1='ldate', oper1='<=', val1='1990-12-31',\n",
    "                 #attr2='ldate', oper2='>=', val2='1986-12-31',\n",
    "                 q_eglist_only=False,\n",
    "                 xquant_lines=True,\n",
    "                 yquant_lines=True,\n",
    "                 xsize=14, ysize=11)"
   ]
  },
  {
   "cell_type": "code",
   "execution_count": null,
   "metadata": {
    "scrolled": false
   },
   "outputs": [],
   "source": [
    "%%time\n",
    "mp.eg_attributes('p1', 'retdate', 'ldate',\n",
    "                 sdict, adict, cdict,\n",
    "                 ds_dict=ds_dict,\n",
    "                 mnum=0,\n",
    "                 #markersize=7,\n",
    "                 marker_alpha=.75,\n",
    "                 tick_size=14,\n",
    "                 qtick_size=13,\n",
    "                 label_size=16,\n",
    "                 ret_only=True,\n",
    "                 eg_list=[1],\n",
    "                 attr1='ldate', oper1='<=', val1='1999-12-31',\n",
    "                 chart_style='ticks',\n",
    "                 q_eglist_only=True,\n",
    "                 xquant_lines=True,\n",
    "                 yquant_lines=True,\n",
    "                 xsize=16, ysize=14)"
   ]
  },
  {
   "cell_type": "code",
   "execution_count": null,
   "metadata": {},
   "outputs": [],
   "source": [
    "%%time\n",
    "# uncomment the two lines of arguments below for an example of attribute filtering\n",
    "mp.quantile_years_in_position('p1', 'standalone', job_levels, 40,\n",
    "                              job_strs, p_dict,\n",
    "                              job_colors, ds_dict=ds_dict,\n",
    "                              flip_x=True, flip_y=False,\n",
    "                              xsize=12, ysize=16, plot_differential=True,\n",
    "                              chart_style='ticks', grid_alpha=.35,\n",
    "                              #attr1='ldate', oper1='<=', val1='1997-12-31',\n",
    "                              #attr2='ldate', oper2='>=', val2='1986-12-31',\n",
    "                              rotate=True, custom_color=False, cm_name='Set1',\n",
    "                              normalize_yr_scale=False, gain_loss_bg=True)"
   ]
  },
  {
   "cell_type": "markdown",
   "metadata": {},
   "source": [
    "age vs. list percentage for a specific month"
   ]
  },
  {
   "cell_type": "code",
   "execution_count": null,
   "metadata": {},
   "outputs": [],
   "source": [
    "%%time\n",
    "mnum = 60  # month number\n",
    "mp.age_vs_spcnt('p1', [1,2], mnum, eg_colors,\n",
    "                p_dict, ret_age,\n",
    "                ds_dict=ds_dict,\n",
    "                attr1='ldate', oper1='<=', val1='1999-12-31',\n",
    "                attr2='jnum', oper2='>=', val2=5)"
   ]
  },
  {
   "cell_type": "markdown",
   "metadata": {},
   "source": [
    "employees from each group holding a specific job level"
   ]
  },
  {
   "cell_type": "code",
   "execution_count": null,
   "metadata": {},
   "outputs": [],
   "source": [
    "%%time\n",
    "jnum = 4  # job number\n",
    "job_p = p[p.jnum==jnum]\n",
    "mp.age_vs_spcnt(p, [1,2,3], 0, eg_colors,\n",
    "                p_dict, ret_age,\n",
    "                ds_dict=ds_dict,\n",
    "                size=20,\n",
    "                xsize=10, ysize=8,\n",
    "                image_dir='im')"
   ]
  },
  {
   "cell_type": "code",
   "execution_count": null,
   "metadata": {},
   "outputs": [],
   "source": [
    "%%time\n",
    "jnum = 4  # job number\n",
    "job_p = p[p.jnum==jnum]\n",
    "mp.age_vs_spcnt(job_p, [1,2,3], 42, eg_colors,\n",
    "                p_dict, ret_age,\n",
    "                ds_dict=ds_dict)"
   ]
  },
  {
   "cell_type": "code",
   "execution_count": null,
   "metadata": {},
   "outputs": [],
   "source": [
    "%%time\n",
    "mp.multiline_plot_by_emp('p1', 'jobp', 'date', sample_emp_list,\n",
    "                         job_levels, ret_age,\n",
    "                         eg_colors, job_strs, sdict,\n",
    "                         adict, ds_dict=ds_dict)"
   ]
  },
  {
   "cell_type": "code",
   "execution_count": null,
   "metadata": {},
   "outputs": [],
   "source": [
    "%%time\n",
    "mp.multiline_plot_by_emp('p1', 'mpay', 'spcnt', sample_emp_list,\n",
    "                         job_levels, ret_age,\n",
    "                         eg_colors, job_strs, sdict,\n",
    "                         adict, ds_dict=ds_dict)"
   ]
  },
  {
   "cell_type": "code",
   "execution_count": null,
   "metadata": {},
   "outputs": [],
   "source": [
    "%%time\n",
    "#samp_emps = [20011251, 10012608]\n",
    "samp_emps = [10010692, 20010130]\n",
    "mp.multiline_plot_by_emp('p1', 'jnum', 'date', samp_emps,\n",
    "                         job_levels, ret_age,\n",
    "                         eg_colors, job_strs, sdict,\n",
    "                         adict, ds_dict=ds_dict, plot_jobp=True, xsize=14, ysize=10)"
   ]
  },
  {
   "cell_type": "code",
   "execution_count": null,
   "metadata": {},
   "outputs": [],
   "source": [
    "%%time\n",
    "mp.multiline_plot_by_emp('p1', 'jnum', 'date', sample_emp_list,\n",
    "                         job_levels, ret_age,\n",
    "                         eg_colors, job_strs, sdict,\n",
    "                         adict, chart_style='ticks', ds_dict=ds_dict)"
   ]
  },
  {
   "cell_type": "code",
   "execution_count": null,
   "metadata": {},
   "outputs": [],
   "source": [
    "%%time\n",
    "mp.eg_attributes('p3', 'cat_order', 'ylong',\n",
    "                 sdict, adict, cdict,\n",
    "                 ds_dict=ds_dict,\n",
    "                 mnum=40,\n",
    "                 #ret_only=True,\n",
    "                 eg_list=[1,2,3],\n",
    "                 chart_style='ticks',\n",
    "                 attr1='ldate', oper1='<=', val1='1999-12-31',\n",
    "                 q_eglist_only=True,\n",
    "                 xquant_lines=True,\n",
    "                 yquant_lines=True,\n",
    "                 xsize=14, ysize=11)"
   ]
  },
  {
   "cell_type": "code",
   "execution_count": null,
   "metadata": {},
   "outputs": [],
   "source": [
    "%%time\n",
    "mp.eg_attributes('p1', 'jnum', 'doh',\n",
    "                 sdict, adict, cdict,\n",
    "                 ds_dict=ds_dict,\n",
    "                 mnum=55,\n",
    "                 #ret_only=True,\n",
    "                 eg_list=[1,2,3],\n",
    "                 chart_style='ticks',\n",
    "                 attr1='ldate', oper1='<=', val1='2022-12-31',\n",
    "                 q_eglist_only=True,\n",
    "                 xquant_lines=True,\n",
    "                 yquant_lines=True,\n",
    "                 xsize=14, ysize=11)"
   ]
  },
  {
   "cell_type": "code",
   "execution_count": null,
   "metadata": {},
   "outputs": [],
   "source": [
    "%%time\n",
    "mp.eg_attributes('p1', 'spcnt', 'cat_order',\n",
    "                 sdict, adict, cdict,\n",
    "                 ds_dict=ds_dict,\n",
    "                 mnum=60,\n",
    "                 #ret_only=True,\n",
    "                 eg_list=[1,2],\n",
    "                 chart_style='ticks',\n",
    "                 markersize=0,\n",
    "                 linestyle='solid',\n",
    "                 linewidth=4,\n",
    "                 attr1='ldate', oper1='<=', val1='1999-12-31',\n",
    "                 q_eglist_only=True,\n",
    "                 xquant_lines=True,\n",
    "                 yquant_lines=True,\n",
    "                 xsize=14, ysize=11)"
   ]
  },
  {
   "cell_type": "code",
   "execution_count": null,
   "metadata": {},
   "outputs": [],
   "source": [
    "%%time\n",
    "# if a FutureWarning is triggered, it is due to an update to matplotlib 3.0 which\n",
    "# affects the seaborn violinplot function.  This warning is expected to be corrected\n",
    "# when the seaborn library is updated to meet the matplotlib 3.0 specifications.\n",
    "mp.violinplot_by_eg(p, 's_lmonths', ret_age,\n",
    "                    cdict,\n",
    "                    adict, ds_dict=ds_dict,\n",
    "                    saturation=.6,\n",
    "                    chart_style='darkgrid',\n",
    "                    mnum=60, scale='count')"
   ]
  },
  {
   "cell_type": "code",
   "execution_count": null,
   "metadata": {},
   "outputs": [],
   "source": [
    "%%time\n",
    "mp.age_kde_dist('p1', eg_colors,\n",
    "                p_dict, ret_age,\n",
    "                ds_dict=ds_dict, mnum=0)"
   ]
  },
  {
   "cell_type": "code",
   "execution_count": null,
   "metadata": {
    "scrolled": false
   },
   "outputs": [],
   "source": [
    "%%time\n",
    "mp.eg_diff_boxplot(['p1', 'p2', 'p3'], 'standalone', [2],\n",
    "                   cdict['eg_colors_lgt'],\n",
    "                   job_levels,\n",
    "                   job_levels + 1,\n",
    "                   adict, ds_dict=ds_dict,\n",
    "                   #attr1='ldate', oper1='<=', val1='1986-12-31',\n",
    "                   measure='spcnt', comparison='',\n",
    "                   linewidth=.75,\n",
    "                   year_clip=2065, chart_style='darkgrid')"
   ]
  },
  {
   "cell_type": "code",
   "execution_count": null,
   "metadata": {
    "scrolled": false
   },
   "outputs": [],
   "source": [
    "%%time\n",
    "mp.eg_boxplot(['standalone', 'p1', 'p2', 'p3'], [1,2], cdict['eg_colors_lgt'], job_levels + 1,\n",
    "              adict, year_clip=2065,\n",
    "              #attr1='retdate', oper1='<=', val1='2022-12-31',\n",
    "              show_whiskers=True, xsize=16, ysize=8,\n",
    "              measure='spcnt', ds_dict=ds_dict, chart_style='darkgrid')"
   ]
  },
  {
   "cell_type": "code",
   "execution_count": null,
   "metadata": {
    "scrolled": false
   },
   "outputs": [],
   "source": [
    "%%time\n",
    "mp.stripplot_dist_in_category('p1', job_levels,\n",
    "                              sdict['stripplot_full_time_pcnt'],\n",
    "                              eg_colors,\n",
    "                              job_colors, sdict['job_strs_dict'],\n",
    "                              adict,\n",
    "                              p_dict, mnum=35, ds_dict=ds_dict, bg_alpha=.15,\n",
    "                              #attr1='age', oper1='>=', val1='55',\n",
    "                              #attr2='ldate', oper2='<=', val2='1995-12-31',\n",
    "                              #fur_color=[0.5, 0.5, 0.5, .5],\n",
    "                              ysize=11, xsize=4)"
   ]
  },
  {
   "cell_type": "code",
   "execution_count": null,
   "metadata": {},
   "outputs": [],
   "source": [
    "df1 = ds_dict['p1']"
   ]
  },
  {
   "cell_type": "code",
   "execution_count": null,
   "metadata": {},
   "outputs": [],
   "source": [
    "df1[df1.mnum==40]['fur'].sum()"
   ]
  },
  {
   "cell_type": "code",
   "execution_count": null,
   "metadata": {
    "scrolled": false
   },
   "outputs": [],
   "source": [
    "%%time\n",
    "# 20011150, 10013738, 30010419\n",
    "# 10011447, 20010130\n",
    "mp.multiline_plot_by_emp('p1', 'spcnt', 'date', sample_emp_list,\n",
    "                         job_levels, ret_age,\n",
    "                         eg_colors, job_strs, sdict,\n",
    "                         adict, line_alpha=.75, through_date='2031-01-01',\n",
    "                         chart_style='ticks', ds_dict=ds_dict, plot_jobp=True)"
   ]
  },
  {
   "cell_type": "code",
   "execution_count": null,
   "metadata": {},
   "outputs": [],
   "source": [
    "%%time\n",
    "# 20011150, 10013738, 30010419\n",
    "# 10011447, 20010130\n",
    "mp.job_level_progression('p1', #[10011447, 20010130],\n",
    "                         sample_emp_list,\n",
    "                         '2031-01-31',\n",
    "                         sdict, cdict,\n",
    "                         eg_colors, job_colors,\n",
    "                         ds_dict=ds_dict, job_bands_alpha=.15)"
   ]
  },
  {
   "cell_type": "code",
   "execution_count": null,
   "metadata": {
    "scrolled": false
   },
   "outputs": [],
   "source": [
    "%%time\n",
    "mp.job_level_progression('p1', sample_emp_list, '2030-12-31',\n",
    "                         sdict, cdict,\n",
    "                         eg_colors, job_colors,\n",
    "                         ds_dict=ds_dict)"
   ]
  },
  {
   "cell_type": "code",
   "execution_count": null,
   "metadata": {},
   "outputs": [],
   "source": [
    "p.columns"
   ]
  },
  {
   "cell_type": "code",
   "execution_count": null,
   "metadata": {
    "scrolled": false
   },
   "outputs": [],
   "source": [
    "%%time\n",
    "mp.differential_scatter(['p1', 'p2', 'p3'], 'standalone', 'spcnt',\n",
    "                        [1, 2, 3], adict, cdict, p_dict, ds_dict=ds_dict, prop_order=True,\n",
    "                        attr1='ret_mark', oper1='==', val1=1,\n",
    "                        show_scatter=True, show_lin_reg=False,\n",
    "                        show_mean=False, mean_len=80,\n",
    "                        dot_size=20, lin_reg_order=12,\n",
    "                        ylimit=False, ylim=5,\n",
    "                        bright_bg=True,\n",
    "                        chart_style='whitegrid')"
   ]
  },
  {
   "cell_type": "code",
   "execution_count": null,
   "metadata": {},
   "outputs": [],
   "source": [
    "%%time\n",
    "# where is an employee located on a proposed list compared to employees from other\n",
    "# groups who share the same attribute, such as longevity date?\n",
    "# positive numbers mean better location\n",
    "# areas are outlined by respective employee group color(s)\n",
    "mp.cohort_differential('p2', 1, sdict, cdict, adict,\n",
    "                       #attr1='age', oper1='<', val1=50,\n",
    "                       ds_dict=ds_dict, mnum=0, measure='ldate',\n",
    "                       sort_xax_by_measure=True, single_eg_compare=None,\n",
    "                       compare_value='1988-12-31', bg_color=None, #'#ffffe6',\n",
    "                       xsize=16, ysize=12)"
   ]
  },
  {
   "cell_type": "code",
   "execution_count": null,
   "metadata": {
    "scrolled": false
   },
   "outputs": [],
   "source": [
    "%%time\n",
    "mp.parallel(['p1', 'p2'], 'standalone', [1,2],\n",
    "            'spcnt', [0, 40, 80, 120, 200],\n",
    "            job_levels,\n",
    "            eg_colors, sdict, adict,\n",
    "            ds_dict=ds_dict, facecolor='#fffff5',\n",
    "            chart_style='whitegrid',\n",
    "            #attr1='ldate', oper1='<=', val1='1997-12-31',\n",
    "            left=0, xsize=5, ysize=5)"
   ]
  },
  {
   "cell_type": "code",
   "execution_count": null,
   "metadata": {},
   "outputs": [],
   "source": [
    "%%time\n",
    "mp.job_grouping_over_time('p1', [1,2,3], job_strs,\n",
    "                          job_colors, p_dict,\n",
    "                          rets_only=True, ds_dict=ds_dict,\n",
    "                          #attr1='ldate', oper1='<=', val1='1997-12-31',\n",
    "                          time_group='A', plt_kind='bar',\n",
    "                          display_yrs=40, legend_loc=4, xsize=14,\n",
    "                          ysize=9)"
   ]
  },
  {
   "cell_type": "markdown",
   "metadata": {},
   "source": [
    "integrated distribution of all jobs, all employee groups"
   ]
  },
  {
   "cell_type": "code",
   "execution_count": null,
   "metadata": {},
   "outputs": [],
   "source": [
    "%%time\n",
    "mp.rows_of_color('p1', 62, ['jnum'], eg_colors,\n",
    "                 job_colors, sdict, ds_dict=ds_dict,\n",
    "                 cols=120, job_only=False, jnum=4,\n",
    "                 cell_border=True, eg_border_color='.75', eg_list=[1],\n",
    "                 job_border_color='.75', xsize=14, ysize=9, fur_color='c')"
   ]
  },
  {
   "cell_type": "code",
   "execution_count": null,
   "metadata": {},
   "outputs": [],
   "source": [
    "%%time\n",
    "mp.rows_of_color('p1', 62, ['eg', 'fur'], eg_colors,\n",
    "                 job_colors, sdict, ds_dict=ds_dict,\n",
    "                 cols=150, job_only=False, jnum=6,\n",
    "                 cell_border=True, eg_border_color='.3',\n",
    "                 job_border_color='.55', xsize=15, ysize=9)"
   ]
  },
  {
   "cell_type": "code",
   "execution_count": null,
   "metadata": {},
   "outputs": [],
   "source": [
    "%%time\n",
    "mp.rows_of_color('p1', 62, ['eg'], eg_colors,\n",
    "                 job_colors, sdict, ds_dict=ds_dict,\n",
    "                 cols=100, job_only=True, jnum=4,\n",
    "                 attr1='age', oper1='>=', val1='60',\n",
    "                 cell_border=False, eg_border_color='.6',\n",
    "                 job_border_color='.85', xsize=15, ysize=9)"
   ]
  },
  {
   "cell_type": "code",
   "execution_count": null,
   "metadata": {},
   "outputs": [],
   "source": [
    "%%time\n",
    "mp.rows_of_color('p1', 62, ['eg', 'fur'], eg_colors,\n",
    "                 job_colors, sdict, ds_dict=ds_dict,\n",
    "                 cols=100, job_only=True, jnum=4,\n",
    "                 #attr1='ldate', oper1='<=', val1='1987-12-31',\n",
    "                 cell_border=False, eg_border_color='.3',\n",
    "                 job_border_color='.85', xsize=15, ysize=9)"
   ]
  },
  {
   "cell_type": "code",
   "execution_count": null,
   "metadata": {},
   "outputs": [],
   "source": [
    "%%time\n",
    "mp.quantile_bands_over_time('p1', 1, 'lspcnt', bins=20, ds_dict=ds_dict,\n",
    "                            year_clip=None, kind='area',\n",
    "                            quantile_ticks=True,\n",
    "                            quantile_alpha=.65, cm_name='nipy_spectral',\n",
    "                            grid_alpha=.5,\n",
    "                            alt_bg_color=False, bg_color='#faf6eb')"
   ]
  },
  {
   "cell_type": "code",
   "execution_count": null,
   "metadata": {
    "scrolled": false
   },
   "outputs": [],
   "source": [
    "%%time\n",
    "mp.job_transfer('p1', 'standalone', 1,\n",
    "                job_colors, job_levels,\n",
    "                job_strs, p_dict,\n",
    "                ds_dict=ds_dict, chart_style='ticks',\n",
    "                gb_period='M')"
   ]
  },
  {
   "cell_type": "code",
   "execution_count": null,
   "metadata": {},
   "outputs": [],
   "source": [
    "%%time\n",
    "d1 = ds_dict['p1']\n",
    "d2 = ds_dict['standalone']\n",
    "attr = 'doh'\n",
    "value = '1989-12-31'\n",
    "mp.job_transfer(d1[d1[attr] <= value], d2[d2[attr] <= value],\n",
    "                2, job_colors, job_levels,\n",
    "                job_strs, p_dict,\n",
    "                ds_dict=ds_dict,\n",
    "                gb_period='M')"
   ]
  },
  {
   "cell_type": "code",
   "execution_count": null,
   "metadata": {},
   "outputs": [],
   "source": [
    "%%time\n",
    "mp.eg_multiplot_with_cat_order('p1', 35, 'cat_order', 'spcnt',\n",
    "                               job_strs, job_colors,\n",
    "                               job_levels, sdict, adict, cdict,\n",
    "                               egs=[2,3], ds_dict=ds_dict,\n",
    "                               job_bands_alpha=.2, xsize=14,\n",
    "                               plot_scatter=True, s=15, a=.7, lw=0,\n",
    "                               tick_size=11)"
   ]
  },
  {
   "cell_type": "code",
   "execution_count": null,
   "metadata": {},
   "outputs": [],
   "source": [
    "mp.make_color_list()"
   ]
  },
  {
   "cell_type": "code",
   "execution_count": null,
   "metadata": {},
   "outputs": [],
   "source": [
    "mp.make_color_list(num_of_colors=4, cm_name_list=['Accent'])"
   ]
  },
  {
   "cell_type": "code",
   "execution_count": null,
   "metadata": {},
   "outputs": [],
   "source": [
    "ds_dict['p1'].columns"
   ]
  },
  {
   "cell_type": "code",
   "execution_count": null,
   "metadata": {
    "scrolled": false
   },
   "outputs": [],
   "source": [
    "%%time\n",
    "mp.diff_range(['p1', 'p2', 'p3'], 'standalone', 'jobp', [1,2,3],\n",
    "              adict, ds_dict=ds_dict, cm_name='Set1',\n",
    "              #attr1='ldate', oper1='<=', val1='1991-12-31',\n",
    "              #attr2='ldate', oper2='>=', val2='1985-12-31',\n",
    "              show_range=False, show_mean=True,\n",
    "              year_clip=2030, range_alpha=.3, chart_style='ticks',\n",
    "              tick_size=13, suptitle_size=16, title_size=16, label_size=16, legend_size=14, image_dir='im', image_format='png')"
   ]
  },
  {
   "cell_type": "code",
   "execution_count": null,
   "metadata": {
    "scrolled": false
   },
   "outputs": [],
   "source": [
    "%%time\n",
    "mp.job_count_charts('p1', 'standalone', sdict, eg_colors,\n",
    "                    eg_list=[1,2,3], ds_dict=ds_dict,\n",
    "                    #attr1='lname', oper1='<=', val1='jones',\n",
    "                    plot_egs_sep=True, plot_total=True, year_max=2050)"
   ]
  },
  {
   "cell_type": "code",
   "execution_count": null,
   "metadata": {
    "scrolled": false
   },
   "outputs": [],
   "source": [
    "%%time\n",
    "mp.emp_quick_glance(sample_emp, 'p1', ds_dict=ds_dict)"
   ]
  },
  {
   "cell_type": "code",
   "execution_count": null,
   "metadata": {},
   "outputs": [],
   "source": [
    "%%time\n",
    "mp.single_emp_compare(sample_emp, 'cat_order',\n",
    "                      ['p1', 'p2', 'p3', 'standalone'],\n",
    "                      'date', job_strs, eg_colors,\n",
    "                      p_dict, job_levels, adict,\n",
    "                      chart_style='darkgrid',\n",
    "                      ds_dict=ds_dict)"
   ]
  },
  {
   "cell_type": "code",
   "execution_count": null,
   "metadata": {
    "scrolled": false
   },
   "outputs": [],
   "source": [
    "%%time\n",
    "mp.job_time_change(['p1'], 'standalone', [1], job_colors,\n",
    "                   sdict['job_strs_dict'], job_levels, adict,\n",
    "                   'lspcnt', ds_dict=ds_dict, chart_style='ticks',\n",
    "                   #attr1='ldate', oper1='<=', val1='1987-12-31',\n",
    "                   bg_color='#ffffff',\n",
    "                   xsize=12, ysize=8, experimental=False)"
   ]
  },
  {
   "cell_type": "markdown",
   "metadata": {},
   "source": [
    "### slicing and groupby month"
   ]
  },
  {
   "cell_type": "code",
   "execution_count": null,
   "metadata": {},
   "outputs": [],
   "source": [
    "%%time\n",
    "mp.group_average_and_median('p1', 'standalone', [1,2,3],\n",
    "                            eg_colors, 'cat_order', job_levels,\n",
    "                            sdict, adict, chart_style='ticks',\n",
    "                            attr1='ldate', oper1='<=', val1='1989-12-31',\n",
    "                            show_full_yscale=False,\n",
    "                            ds_dict=ds_dict)"
   ]
  },
  {
   "cell_type": "code",
   "execution_count": null,
   "metadata": {},
   "outputs": [],
   "source": [
    "%%time\n",
    "mp.group_average_and_median('p1', 'standalone', [1, 2, 3],\n",
    "                            eg_colors, 'jnum', job_levels,\n",
    "                            sdict, adict,\n",
    "                            ds_dict=ds_dict,\n",
    "                            chart_style='ticks',\n",
    "                            attr1='age', oper1='>', val1='50')"
   ]
  },
  {
   "cell_type": "code",
   "execution_count": null,
   "metadata": {},
   "outputs": [],
   "source": [
    "%%time\n",
    "# filter entire dataset to include only those employees who were 50 or older during month 0\n",
    "job_slice = mp.slice_ds_by_filtered_index('p1', ds_dict=ds_dict, mnum=0, attr='age', attr_oper='>=', attr_val=50)"
   ]
  },
  {
   "cell_type": "code",
   "execution_count": null,
   "metadata": {},
   "outputs": [],
   "source": [
    "%%time\n",
    "# use the filtered dataset from the cell above as input (job_slice).\n",
    "# this chart shows average job category order number for employees who were at least 50 at month 0 and\n",
    "# who have a longevity date in 1999 or earlier...\n",
    "mp.group_average_and_median(job_slice, 'standalone', [1, 2, 3],\n",
    "                            eg_colors, 'cat_order', job_levels,\n",
    "                            sdict, adict,\n",
    "                            attr1='ldate', oper1='<=', val1='1999-12-31',\n",
    "                            ds_dict=ds_dict, job_labels=False)"
   ]
  },
  {
   "cell_type": "code",
   "execution_count": null,
   "metadata": {},
   "outputs": [],
   "source": [
    "%%time\n",
    "mp.stripplot_eg_density('p1', 100, eg_colors,\n",
    "                        mnum_order=True,\n",
    "                        dot_size=2.6,\n",
    "                        #attr1='age', oper1='>=', val1='62',\n",
    "                        ds_dict=ds_dict, xsize=4)"
   ]
  },
  {
   "cell_type": "code",
   "execution_count": null,
   "metadata": {},
   "outputs": [],
   "source": [
    "p.columns"
   ]
  },
  {
   "cell_type": "code",
   "execution_count": null,
   "metadata": {
    "scrolled": false
   },
   "outputs": [],
   "source": [
    "%%time\n",
    "mp.job_count_bands(['standalone', 'p1', 'p2', 'p3'], [1,2,3], job_colors,\n",
    "                   sdict, ds_dict=ds_dict, emp_list=sample_emp_list,\n",
    "                   #attr1='ldate', oper1='<=', val1='1990-12-31',\n",
    "                   chart_style='white', xsize=13, ysize=8)"
   ]
  },
  {
   "cell_type": "code",
   "execution_count": null,
   "metadata": {},
   "outputs": [],
   "source": [
    "%%time\n",
    "mp.quantile_bands_over_time(p, 2, 'lspcnt', bins=40, quantile_ticks=False, cm_name='Set2')"
   ]
  },
  {
   "cell_type": "code",
   "execution_count": null,
   "metadata": {},
   "outputs": [],
   "source": [
    "%%time\n",
    "# cat_order progression for the median of each 2.5% segment (40 quantiles)\n",
    "# of employee group 2 (standalone dataset)\n",
    "mp.quantile_groupby(['standalone'], [1,2], 'cat_order', 40,\n",
    "                    eg_colors, job_colors, sdict, adict, job_dict,\n",
    "                    ds_dict=ds_dict, show_job_bands=False,\n",
    "                    num_cat_order_yticks=20,\n",
    "                    custom_color=False,\n",
    "                    through_date='2037-12-31')"
   ]
  },
  {
   "cell_type": "code",
   "execution_count": null,
   "metadata": {},
   "outputs": [],
   "source": [
    "%%time\n",
    "# same as above, but as affected by integration proposal p1,\n",
    "# with a delayed implementation date\n",
    "mp.quantile_groupby(['p1'], [2], 'cat_order', 40,\n",
    "                    eg_colors, job_colors, sdict, adict,\n",
    "                    job_dict,\n",
    "                    ds_dict=ds_dict,\n",
    "                    num_cat_order_yticks=20,\n",
    "                    show_job_bands=False, custom_color=False,\n",
    "                    through_date='2037-12-31')"
   ]
  },
  {
   "cell_type": "code",
   "execution_count": null,
   "metadata": {},
   "outputs": [],
   "source": [
    "%%time\n",
    "# same as above, but with the addition of job bands\n",
    "mp.quantile_groupby(['p1'], [2], 'cat_order', 200,\n",
    "                    eg_colors, job_colors, sdict, adict,\n",
    "                    job_dict,\n",
    "                    ds_dict=ds_dict,\n",
    "                    num_cat_order_yticks=20,\n",
    "                    show_job_bands=True, custom_color=False,\n",
    "                    through_date='2037-12-31')"
   ]
  },
  {
   "cell_type": "code",
   "execution_count": null,
   "metadata": {
    "scrolled": false
   },
   "outputs": [],
   "source": [
    "%%time\n",
    "# cat_order progression for the median of each .4% segment (250 quantiles)\n",
    "# of employee group 2 (p1 dataset)\n",
    "# custom color example \n",
    "mp.quantile_groupby(['p3'], [1], 'cat_order', 200,\n",
    "                    eg_colors, job_colors, sdict, adict,\n",
    "                    job_dict,\n",
    "                    groupby_method='median',\n",
    "                    ds_dict=ds_dict, show_job_bands=True,\n",
    "                    line_width=1, custom_color=True, chart_style='whitegrid',\n",
    "                    line_alpha=.9,\n",
    "                    num_cat_order_yticks=20,\n",
    "                    show_grid=True, cm_name='tab20c',\n",
    "                    through_date='2037-12-31')"
   ]
  },
  {
   "cell_type": "code",
   "execution_count": null,
   "metadata": {},
   "outputs": [],
   "source": [
    "%%time\n",
    "# cat_order progression comparison for the median of each 10% segment (10 quantiles)\n",
    "# of employee group 2 for standalone (solid lines) and p1 (dashed lines) datasets.\n",
    "# custom color example \n",
    "mp.quantile_groupby(['standalone', 'p1'], [2], 'cat_order', 10,\n",
    "                    eg_colors, job_colors, sdict, adict,\n",
    "                    job_dict,\n",
    "                    groupby_method='median',\n",
    "                    ds_dict=ds_dict, show_job_bands=False,\n",
    "                    num_cat_order_yticks=20,\n",
    "                    line_width=2.5, custom_color=True, chart_style='whitegrid',\n",
    "                    line_alpha=1,\n",
    "                    show_grid=True, cm_name='Dark2',\n",
    "                    through_date='2037-12-31')"
   ]
  },
  {
   "cell_type": "markdown",
   "metadata": {},
   "source": [
    "### custom plot example, eg job count over time, standalone vs. proposal"
   ]
  },
  {
   "cell_type": "code",
   "execution_count": null,
   "metadata": {},
   "outputs": [],
   "source": [
    "%%time\n",
    "eg_num = 2\n",
    "\n",
    "fur_color = '#404040'\n",
    "j_colors = job_colors[:]\n",
    "j_colors[-1] = fur_color\n",
    "\n",
    "stand = ds_dict['standalone']\n",
    "p = ds_dict['p1']\n",
    "\n",
    "base_jobs = stand[stand.eg==eg_num].groupby(['date', 'jnum']).size().astype(int).unstack()\n",
    "p_jobs = p[p.eg==eg_num].groupby(['date', 'jnum']).size().astype(int).unstack()\n",
    "\n",
    "base_jobs_cols = list(base_jobs.columns)\n",
    "p_jobs_cols = list(p_jobs.columns)\n",
    "\n",
    "#-----------------------------------------------------------------------\n",
    "# Baseline job counts chart:\n",
    "base_jobs.plot(color=list(j_colors[i - 1] for i in base_jobs_cols))\n",
    "fig = plt.gcf()\n",
    "fig.set_size_inches(12, 7)\n",
    "ax = plt.gca()\n",
    "ax.margins(x=0, y=0)\n",
    "# Shrink current axis by 20%\n",
    "box = ax.get_position()\n",
    "ax.set_position([box.x0, box.y0, box.width * 0.8, box.height])\n",
    "\n",
    "# legend position to right\n",
    "ax.legend(loc='center left', bbox_to_anchor=(1, 0.5))\n",
    "ax.set_title('baseline job counts, eg ' + str(eg_num))\n",
    "\n",
    "#------------------------------------------------------------------------\n",
    "# Proposal job counts chart:\n",
    "p_jobs.plot(color=list(j_colors[i - 1] for i in p_jobs_cols))\n",
    "fig = plt.gcf()\n",
    "fig.set_size_inches(12, 7)\n",
    "ax = plt.gca()\n",
    "ax.margins(x=0, y=0)\n",
    "\n",
    "box = ax.get_position()\n",
    "ax.set_position([box.x0, box.y0, box.width * 0.8, box.height])\n",
    "\n",
    "ax.legend(loc='center left', bbox_to_anchor=(1, 0.5))\n",
    "ax.set_title('proposal job counts, eg ' + str(eg_num))\n",
    "\n",
    "plt.show()"
   ]
  },
  {
   "cell_type": "markdown",
   "metadata": {},
   "source": [
    "## custom color list creator demo"
   ]
  },
  {
   "cell_type": "markdown",
   "metadata": {},
   "source": [
    "Note:  the following cells are included only as an example of creating a custom colormap for charts..."
   ]
  },
  {
   "cell_type": "code",
   "execution_count": null,
   "metadata": {},
   "outputs": [],
   "source": [
    "%%time\n",
    "# get all available colormap names\n",
    "sorted(m for m in plt.cm.datad if not m.endswith(\"_r\"))"
   ]
  },
  {
   "cell_type": "code",
   "execution_count": null,
   "metadata": {},
   "outputs": [],
   "source": [
    "# use a colormap name(s) within the cm_name_list variable\n",
    "# the make_color_list function can do several things, here it returns color lists...\n",
    "mp.make_color_list(num_of_colors=10, cm_name_list=['Paired', 'cool'])"
   ]
  },
  {
   "cell_type": "code",
   "execution_count": null,
   "metadata": {},
   "outputs": [],
   "source": [
    "# same colormap inputs, this time with seaborn palplot output.\n",
    "# the function produces lists of colors which may then be used for plotting.\n",
    "mp.make_color_list(num_of_colors=10, cm_name_list=['Paired', 'cool'], return_list=False)"
   ]
  },
  {
   "cell_type": "markdown",
   "metadata": {},
   "source": [
    "seaborn method of viewing a custom color list:"
   ]
  },
  {
   "cell_type": "code",
   "execution_count": null,
   "metadata": {},
   "outputs": [],
   "source": [
    "sns.palplot([(0.65, 0.80, 0.89, 1.0), (0.12, 0.47, 0.70, 1.0), (0.69, 0.87, 0.54, 1.0)])"
   ]
  },
  {
   "cell_type": "code",
   "execution_count": null,
   "metadata": {},
   "outputs": [],
   "source": [
    "sns.palplot(['r', 'g', 'b'])"
   ]
  },
  {
   "cell_type": "code",
   "execution_count": null,
   "metadata": {},
   "outputs": [],
   "source": [
    "eg_color_dict = {1: 'k', 2: 'b', 3: 'red'}\n",
    "prop_dict = {0: 'standalone', 1: 'p1', 2: 'p2', 3: 'p3', 4: 'edit', 5: 'hybrid'}"
   ]
  },
  {
   "cell_type": "code",
   "execution_count": null,
   "metadata": {},
   "outputs": [],
   "source": [
    "prop = 1"
   ]
  },
  {
   "cell_type": "code",
   "execution_count": null,
   "metadata": {},
   "outputs": [],
   "source": [
    "this_p = ds_dict[prop_dict[prop]].copy()"
   ]
  },
  {
   "cell_type": "code",
   "execution_count": null,
   "metadata": {},
   "outputs": [],
   "source": [
    "%%time\n",
    "this_p['start_age'] = f.make_starting_val_column(this_p, 'age', inplace=False)"
   ]
  },
  {
   "cell_type": "code",
   "execution_count": null,
   "metadata": {},
   "outputs": [],
   "source": [
    "%%time\n",
    "f.make_eg_pcnt_column(this_p)"
   ]
  },
  {
   "cell_type": "code",
   "execution_count": null,
   "metadata": {},
   "outputs": [],
   "source": [
    "this_p.columns"
   ]
  },
  {
   "cell_type": "code",
   "execution_count": null,
   "metadata": {},
   "outputs": [],
   "source": [
    "eg_list = [1, 2]"
   ]
  },
  {
   "cell_type": "code",
   "execution_count": null,
   "metadata": {},
   "outputs": [],
   "source": [
    "this_p.start_age.max()"
   ]
  },
  {
   "cell_type": "code",
   "execution_count": null,
   "metadata": {},
   "outputs": [],
   "source": [
    "tp = this_p[this_p.retdate <= '2025-12-31']\n",
    "fig, ax = plt.subplots()\n",
    "m1 = 'start_age'\n",
    "m2 = 'jobp'\n",
    "\n",
    "for eg in eg_list:\n",
    "    filt_df = tp[(tp.eg==eg) & (tp.ret_mark==1)][[m1, m2]]\n",
    "    filt_df.plot(x=m1, y=m2,\n",
    "                 kind='scatter', ax=ax,\n",
    "                 color=eg_color_dict[eg],\n",
    "                 alpha=.15, s=60)\n",
    "ax.invert_yaxis()\n",
    "if m2 in ['jnum', 'jobp']:\n",
    "    max_jnum = min(int(filt_df[m2].max()) + 2, 18)\n",
    "    ax.set_yticks(np.arange(1, max_jnum, 1))\n",
    "#ax.invert_xaxis()"
   ]
  },
  {
   "cell_type": "code",
   "execution_count": null,
   "metadata": {},
   "outputs": [],
   "source": [
    "tp = this_p[this_p.retdate <= '2045-12-31']\n",
    "fig, ax = plt.subplots()\n",
    "m1 = 'eg_start_pcnt'\n",
    "m2 = 'cat_order'\n",
    "\n",
    "for eg in eg_list:\n",
    "    tp[(tp.eg==eg) & (tp.ret_mark==1)][[m1, m2]].plot(x=m1, y=m2,\n",
    "                                                      kind='scatter', ax=ax,\n",
    "                                                      color=eg_color_dict[eg],\n",
    "                                                      alpha=.15, s=60)\n",
    "ax.invert_yaxis()\n",
    "ax.invert_xaxis()"
   ]
  },
  {
   "cell_type": "code",
   "execution_count": null,
   "metadata": {
    "scrolled": false
   },
   "outputs": [],
   "source": [
    "np.unique(this_p[this_p.mnum==80]['jnum'], return_counts=True)"
   ]
  },
  {
   "cell_type": "code",
   "execution_count": null,
   "metadata": {},
   "outputs": [],
   "source": [
    "mp.cond_test('p1', [2], enhanced_jobs, job_colors, job_dict, [1, 3], ds_dict=ds_dict, max_mnum=110)"
   ]
  },
  {
   "cell_type": "code",
   "execution_count": null,
   "metadata": {},
   "outputs": [],
   "source": [
    "#uncomment lines below to run, this one takes a long time to calculate...\n",
    "\n",
    "#sns.swarmplot(x='eg', y='cat_order', data=p[p.mnum==0]);\n",
    "#plt.gca().invert_yaxis()\n",
    "#plt.gcf().set_size_inches(10, 10)"
   ]
  },
  {
   "cell_type": "code",
   "execution_count": null,
   "metadata": {
    "scrolled": false
   },
   "outputs": [],
   "source": [
    "chart_style = 'whitegrid'\n",
    "with sns.axes_style(chart_style):\n",
    "    fig, ax = plt.subplots()\n",
    "sns.stripplot(x='eg', y='cat_order', data=p[(p.ret_mark==1) & (p.ldate <= '1987-12-31') & (p.retdate > '2017-12-31')], jitter=.5, size=5, alpha=.65, ax=ax);\n",
    "fig.set_size_inches(10, 10)\n",
    "ax.invert_yaxis()"
   ]
  },
  {
   "cell_type": "code",
   "execution_count": null,
   "metadata": {},
   "outputs": [],
   "source": []
  },
  {
   "cell_type": "code",
   "execution_count": null,
   "metadata": {},
   "outputs": [],
   "source": []
  },
  {
   "cell_type": "code",
   "execution_count": null,
   "metadata": {},
   "outputs": [],
   "source": []
  },
  {
   "cell_type": "code",
   "execution_count": null,
   "metadata": {},
   "outputs": [],
   "source": []
  },
  {
   "cell_type": "code",
   "execution_count": null,
   "metadata": {},
   "outputs": [],
   "source": []
  },
  {
   "cell_type": "code",
   "execution_count": null,
   "metadata": {},
   "outputs": [],
   "source": []
  },
  {
   "cell_type": "code",
   "execution_count": null,
   "metadata": {},
   "outputs": [],
   "source": []
  },
  {
   "cell_type": "code",
   "execution_count": null,
   "metadata": {},
   "outputs": [],
   "source": []
  },
  {
   "cell_type": "code",
   "execution_count": null,
   "metadata": {},
   "outputs": [],
   "source": []
  },
  {
   "cell_type": "code",
   "execution_count": null,
   "metadata": {},
   "outputs": [],
   "source": []
  },
  {
   "cell_type": "code",
   "execution_count": null,
   "metadata": {},
   "outputs": [],
   "source": []
  },
  {
   "cell_type": "code",
   "execution_count": null,
   "metadata": {},
   "outputs": [],
   "source": []
  },
  {
   "cell_type": "code",
   "execution_count": null,
   "metadata": {},
   "outputs": [],
   "source": []
  },
  {
   "cell_type": "code",
   "execution_count": null,
   "metadata": {},
   "outputs": [],
   "source": []
  },
  {
   "cell_type": "code",
   "execution_count": null,
   "metadata": {},
   "outputs": [],
   "source": []
  },
  {
   "cell_type": "code",
   "execution_count": null,
   "metadata": {},
   "outputs": [],
   "source": []
  },
  {
   "cell_type": "code",
   "execution_count": null,
   "metadata": {},
   "outputs": [],
   "source": []
  },
  {
   "cell_type": "code",
   "execution_count": null,
   "metadata": {},
   "outputs": [],
   "source": []
  }
 ],
 "metadata": {
  "anaconda-cloud": {},
  "kernelspec": {
   "display_name": "Python 3",
   "language": "python",
   "name": "python3"
  },
  "language_info": {
   "codemirror_mode": {
    "name": "ipython",
    "version": 3
   },
   "file_extension": ".py",
   "mimetype": "text/x-python",
   "name": "python",
   "nbconvert_exporter": "python",
   "pygments_lexer": "ipython3",
   "version": "3.7.6"
  }
 },
 "nbformat": 4,
 "nbformat_minor": 2
}
